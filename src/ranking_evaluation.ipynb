{
 "cells": [
  {
   "cell_type": "code",
   "execution_count": 1,
   "metadata": {},
   "outputs": [],
   "source": [
    "def load_queries(filename):\n",
    "    queries = {}\n",
    "    with open(filename, 'r', encoding='utf-8') as file:\n",
    "        for line in file:\n",
    "            query_id, query_text = line.strip().split('\\t')\n",
    "            queries[query_id] = query_text\n",
    "    return queries\n",
    "\n",
    "queries = load_queries('../data/test_queries/msmarco-test2020-queries.tsv')\n"
   ]
  },
  {
   "cell_type": "code",
   "execution_count": 2,
   "metadata": {},
   "outputs": [],
   "source": [
    "def load_qrels(filename):\n",
    "    qrels = {}\n",
    "    with open(filename, 'r', encoding='utf-8') as file:\n",
    "        for line in file:\n",
    "            query_id, _, doc_id, relevance = line.strip().split()\n",
    "            qrels.setdefault(query_id, []).append((doc_id, int(relevance)))\n",
    "    return qrels\n",
    "\n",
    "qrels = load_qrels('../data/test_queries/2020qrels-pass.txt')\n"
   ]
  },
  {
   "cell_type": "code",
   "execution_count": 5,
   "metadata": {},
   "outputs": [
    {
     "ename": "TypeError",
     "evalue": "ord() expected a character, but string of length 0 found",
     "output_type": "error",
     "traceback": [
      "\u001b[1;31m---------------------------------------------------------------------------\u001b[0m",
      "\u001b[1;31mTypeError\u001b[0m                                 Traceback (most recent call last)",
      "\u001b[1;32mc:\\Users\\lukra\\OneDrive\\Bureau\\Information Retrieval & Computer Vision\\MIRCV_Project\\src\\ranking_evaluation.ipynb Cellule 3\u001b[0m line \u001b[0;36m8\n\u001b[0;32m      <a href='vscode-notebook-cell:/c%3A/Users/lukra/OneDrive/Bureau/Information%20Retrieval%20%26%20Computer%20Vision/MIRCV_Project/src/ranking_evaluation.ipynb#W4sZmlsZQ%3D%3D?line=4'>5</a>\u001b[0m \u001b[39mfrom\u001b[39;00m \u001b[39minput_output\u001b[39;00m\u001b[39m.\u001b[39;00m\u001b[39mindex_io\u001b[39;00m \u001b[39mimport\u001b[39;00m load_inverted_index_binary, load_lexicon\n\u001b[0;32m      <a href='vscode-notebook-cell:/c%3A/Users/lukra/OneDrive/Bureau/Information%20Retrieval%20%26%20Computer%20Vision/MIRCV_Project/src/ranking_evaluation.ipynb#W4sZmlsZQ%3D%3D?line=6'>7</a>\u001b[0m \u001b[39m# Load your inverted index and lexicon\u001b[39;00m\n\u001b[1;32m----> <a href='vscode-notebook-cell:/c%3A/Users/lukra/OneDrive/Bureau/Information%20Retrieval%20%26%20Computer%20Vision/MIRCV_Project/src/ranking_evaluation.ipynb#W4sZmlsZQ%3D%3D?line=7'>8</a>\u001b[0m inverted_index \u001b[39m=\u001b[39m load_inverted_index_binary(\u001b[39m'\u001b[39;49m\u001b[39m../data/inverted_index_100000.bin\u001b[39;49m\u001b[39m'\u001b[39;49m)\n\u001b[0;32m      <a href='vscode-notebook-cell:/c%3A/Users/lukra/OneDrive/Bureau/Information%20Retrieval%20%26%20Computer%20Vision/MIRCV_Project/src/ranking_evaluation.ipynb#W4sZmlsZQ%3D%3D?line=8'>9</a>\u001b[0m lexicon \u001b[39m=\u001b[39m load_lexicon(\u001b[39m'\u001b[39m\u001b[39m../data/lexicon.txt\u001b[39m\u001b[39m'\u001b[39m)\n\u001b[0;32m     <a href='vscode-notebook-cell:/c%3A/Users/lukra/OneDrive/Bureau/Information%20Retrieval%20%26%20Computer%20Vision/MIRCV_Project/src/ranking_evaluation.ipynb#W4sZmlsZQ%3D%3D?line=9'>10</a>\u001b[0m total_docs \u001b[39m=\u001b[39m \u001b[39mlen\u001b[39m(inverted_index)  \u001b[39m# Assuming this is how you can get the total number of documents\u001b[39;00m\n",
      "File \u001b[1;32m~\\OneDrive\\Bureau\\Information Retrieval & Computer Vision\\MIRCV_Project\\src\\input_output\\index_io.py:107\u001b[0m, in \u001b[0;36mload_inverted_index_binary\u001b[1;34m(filename)\u001b[0m\n\u001b[0;32m    105\u001b[0m postings_bytes \u001b[39m=\u001b[39m []\n\u001b[0;32m    106\u001b[0m \u001b[39mwhile\u001b[39;00m \u001b[39mTrue\u001b[39;00m:\n\u001b[1;32m--> 107\u001b[0m     byte \u001b[39m=\u001b[39m \u001b[39mord\u001b[39m(file\u001b[39m.\u001b[39mread(\u001b[39m1\u001b[39m))\n\u001b[0;32m    108\u001b[0m     postings_bytes\u001b[39m.\u001b[39mappend(byte)\n\u001b[0;32m    109\u001b[0m     \u001b[39mif\u001b[39;00m \u001b[39mnot\u001b[39;00m (byte \u001b[39m&\u001b[39m \u001b[39m0x80\u001b[39m):\n",
      "\u001b[1;31mTypeError\u001b[0m: ord() expected a character, but string of length 0 found"
     ]
    }
   ],
   "source": [
    "import sys\n",
    "sys.path.append('/path/to/directory/of/process_query')\n",
    "\n",
    "from query_processing.process_query import process_query  # Import other necessary functions\n",
    "from input_output.index_io import load_inverted_index_binary, load_lexicon\n",
    "\n",
    "# Load your inverted index and lexicon\n",
    "inverted_index = load_inverted_index_binary('../data/inverted_index_100000.bin')\n",
    "lexicon = load_lexicon('../data/lexicon.txt')\n",
    "total_docs = len(inverted_index)  # Assuming this is how you can get the total number of documents\n"
   ]
  }
 ],
 "metadata": {
  "kernelspec": {
   "display_name": "MIRCV",
   "language": "python",
   "name": "python3"
  },
  "language_info": {
   "codemirror_mode": {
    "name": "ipython",
    "version": 3
   },
   "file_extension": ".py",
   "mimetype": "text/x-python",
   "name": "python",
   "nbconvert_exporter": "python",
   "pygments_lexer": "ipython3",
   "version": "3.11.5"
  }
 },
 "nbformat": 4,
 "nbformat_minor": 2
}
