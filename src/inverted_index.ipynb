{
 "cells": [
  {
   "cell_type": "code",
   "execution_count": 1,
   "metadata": {},
   "outputs": [],
   "source": [
    "import tarfile\n",
    "import time\n",
    "import matplotlib.pyplot as plt\n",
    "from input_output.index_io import save_inverted_index,save_lexicon\n",
    "from data_preprocessing.data_preprocessing import preprocess_tokenize"
   ]
  },
  {
   "cell_type": "code",
   "execution_count": 2,
   "metadata": {},
   "outputs": [],
   "source": [
    "def parse_documents_from_tsv(tar_path):\n",
    "    documents = {}\n",
    "    with tarfile.open(tar_path, \"r:gz\") as tar:\n",
    "        tsv_file = tar.extractfile('collection.tsv')\n",
    "        if tsv_file:\n",
    "            content = tsv_file.read().decode('utf-8')\n",
    "            lines = content.split('\\n')\n",
    "            for line in lines:\n",
    "                if '\\t' in line:\n",
    "                    doc_id, doc_content = line.split('\\t', 1)\n",
    "                    documents[doc_id] = doc_content\n",
    "    return documents"
   ]
  },
  {
   "cell_type": "code",
   "execution_count": 3,
   "metadata": {},
   "outputs": [],
   "source": [
    "def variable_byte_encode(number):\n",
    "    \"\"\"Encodes a number using variable byte encoding.\"\"\"\n",
    "    if number == 0:\n",
    "        return [0]\n",
    "\n",
    "    bytes_list = []\n",
    "    while number > 0:\n",
    "        bytes_list.insert(0, number % 128)\n",
    "        number >>= 7\n",
    "\n",
    "    # Set the most significant bit to 1 for all but the last byte\n",
    "    for i in range(len(bytes_list) - 1):\n",
    "        bytes_list[i] |= 0x80\n",
    "    bytes_list[-1] |= 0x00  # Ensure the last byte is in the range 0-127\n",
    "\n",
    "    return bytes_list"
   ]
  },
  {
   "cell_type": "code",
   "execution_count": 4,
   "metadata": {},
   "outputs": [],
   "source": [
    "def sort_and_merge_postings(postings_lists):\n",
    "    for term_id, postings in postings_lists.items():\n",
    "        # Ensure doc_ids are integers\n",
    "        sorted_postings = {int(doc_id): freq for doc_id, freq in postings.items()}\n",
    "        sorted_postings = dict(sorted(sorted_postings.items()))\n",
    "\n",
    "        last_doc_id = 0\n",
    "        encoded_postings = []\n",
    "        for doc_id, freq in sorted_postings.items():\n",
    "            gap = doc_id - last_doc_id\n",
    "            encoded_gap = variable_byte_encode(gap)\n",
    "            encoded_freq = variable_byte_encode(freq)\n",
    "            encoded_postings.extend(encoded_gap)\n",
    "            encoded_postings.extend(encoded_freq)\n",
    "            last_doc_id = doc_id\n",
    "\n",
    "        postings_lists[term_id] = encoded_postings\n",
    "    return postings_lists\n"
   ]
  },
  {
   "cell_type": "code",
   "execution_count": 22,
   "metadata": {},
   "outputs": [],
   "source": [
    "def create_postings_lists(documents, lexicon,compiled_re,stemmer,stop_words,punctuation_translator):\n",
    "    \"\"\"\n",
    "    Updated to use term IDs from the lexicon.\n",
    "    \"\"\"\n",
    "    postings_lists = {}\n",
    "    for doc_id, document in documents.items():\n",
    "        parsed_document = preprocess_tokenize(document,compiled_re,stemmer,stop_words,punctuation_translator)\n",
    "        for words in parsed_document:\n",
    "            for word in words:\n",
    "                term_id = lexicon.get(word)\n",
    "                if term_id is not None:\n",
    "                    if term_id not in postings_lists:\n",
    "                        postings_lists[term_id] = {}\n",
    "                    postings_lists[term_id].setdefault(doc_id, 0)\n",
    "                    postings_lists[term_id][doc_id] += 1\n",
    "    return postings_lists"
   ]
  },
  {
   "cell_type": "code",
   "execution_count": 6,
   "metadata": {},
   "outputs": [],
   "source": [
    "def create_lexicon(parsed_documents):\n",
    "    \"\"\"\n",
    "    Create a lexicon mapping terms to unique IDs.\n",
    "\n",
    "    Args:\n",
    "    parsed_documents (dict): Parsed documents with document IDs as keys and contents as values.\n",
    "\n",
    "    Returns:\n",
    "    dict: A dictionary mapping terms to unique IDs.\n",
    "    \"\"\"\n",
    "    lexicon = {}\n",
    "    current_id = 0\n",
    "    for content in parsed_documents.values():\n",
    "        for word in content:\n",
    "            if word not in lexicon:\n",
    "                lexicon[word] = current_id\n",
    "                current_id += 1\n",
    "    return lexicon"
   ]
  },
  {
   "cell_type": "code",
   "execution_count": 7,
   "metadata": {},
   "outputs": [],
   "source": [
    "def measure_performance(full_documents, sizes,compiled_re,stemmer,stop_words,punctuation_translator):\n",
    "    times = []\n",
    "    last_size = 0\n",
    "    original_postings_lists = {}  # Original postings lists as dictionaries\n",
    "    lexicon = {}\n",
    "\n",
    "    elapsed_time = 0\n",
    "\n",
    "    for size in sizes:\n",
    "        # Select only the new subset of documents\n",
    "        new_docs = {doc_id: full_documents[doc_id] for doc_id in list(full_documents)[last_size:size]}\n",
    "        start_time = time.time()\n",
    "\n",
    "        # Update lexicon and original postings lists with new documents\n",
    "        new_lexicon = create_lexicon(new_docs)\n",
    "        lexicon.update(new_lexicon)\n",
    "        new_postings_lists = create_postings_lists(new_docs, lexicon,compiled_re,stemmer,stop_words,punctuation_translator)\n",
    "        for term_id, new_postings in new_postings_lists.items():\n",
    "            if term_id not in original_postings_lists:\n",
    "                original_postings_lists[term_id] = new_postings\n",
    "            else:\n",
    "                for doc_id, freq in new_postings.items():\n",
    "                    if doc_id in original_postings_lists[term_id]:\n",
    "                        original_postings_lists[term_id][doc_id] += freq\n",
    "                    else:\n",
    "                        original_postings_lists[term_id][doc_id] = freq\n",
    "\n",
    "        # Apply variable byte encoding to the postings lists\n",
    "        encoded_postings_lists = {term_id: sort_and_merge_postings({term_id: postings})\n",
    "                                  for term_id, postings in original_postings_lists.items()}\n",
    "\n",
    "        save_inverted_index(encoded_postings_lists, \"../data/inverted_index_\" + str(size) + \".bin\")\n",
    "\n",
    "        elapsed_time = elapsed_time + time.time() - start_time\n",
    "        times.append(elapsed_time)\n",
    "        print(f\"Inverted index generation for {size} documents took {elapsed_time:.2f} seconds.\")\n",
    "\n",
    "        last_size = size  # Update last_size for the next iteration\n",
    "\n",
    "    return times"
   ]
  },
  {
   "cell_type": "code",
   "execution_count": 9,
   "metadata": {},
   "outputs": [],
   "source": [
    "tar_path = '../data/msmarco/collection.tar.gz'\n",
    "full_documents = parse_documents_from_tsv(tar_path)"
   ]
  },
  {
   "cell_type": "code",
   "execution_count": 10,
   "metadata": {},
   "outputs": [],
   "source": [
    "import re\n",
    "import string\n",
    "from nltk.corpus import stopwords\n",
    "from nltk.stem import PorterStemmer\n",
    "\n",
    "stemmer = PorterStemmer()\n",
    "stop_words = set(stopwords.words('english'))\n",
    "compiled_re = re.compile(r'[^a-z0-9\\\\s]')\n",
    "punctuation_translator = str.maketrans('', '', string.punctuation)"
   ]
  },
  {
   "cell_type": "code",
   "execution_count": 23,
   "metadata": {},
   "outputs": [
    {
     "name": "stdout",
     "output_type": "stream",
     "text": [
      "Inverted index generation for 1000 documents took 0.43 seconds.\n",
      "Inverted index generation for 10000 documents took 4.24 seconds.\n",
      "Inverted index generation for 100000 documents took 45.31 seconds.\n",
      "Inverted index generation for 1000000 documents took 467.65 seconds.\n",
      "Inverted index generation for 2000000 documents took 965.85 seconds.\n",
      "Inverted index generation for 4000000 documents took 1982.44 seconds.\n",
      "Inverted index generation for 6000000 documents took 3040.86 seconds.\n",
      "Inverted index generation for 8841823 documents took 4588.23 seconds.\n"
     ]
    }
   ],
   "source": [
    "collection_sizes = [1000, 10000,100000,1000000,2000000,4000000,6000000,len(full_documents)]\n",
    "times = measure_performance(full_documents, collection_sizes,compiled_re,stemmer,stop_words,punctuation_translator)"
   ]
  },
  {
   "cell_type": "code",
   "execution_count": 24,
   "metadata": {},
   "outputs": [
    {
     "data": {
      "image/png": "[encoded data removed]",
      "text/plain": [
       "<Figure size 640x480 with 1 Axes>"
      ]
     },
     "metadata": {},
     "output_type": "display_data"
    }
   ],
   "source": [
    "plt.plot(collection_sizes, times, marker='o')\n",
    "plt.xlabel('Number of Documents')\n",
    "plt.ylabel('Time Taken (seconds)')\n",
    "plt.title('Inverted Index Generation Performance')\n",
    "plt.grid(True)\n",
    "plt.show()"
   ]
  },
  {
   "cell_type": "code",
   "execution_count": null,
   "metadata": {},
   "outputs": [],
   "source": [
    "from input_output.index_io import save_lexicon\n",
    "\n",
    "save_lexicon(create_lexicon(full_documents),\"../data/lexicon.txt\")"
   ]
  }
 ],
 "metadata": {
  "kernelspec": {
   "display_name": "MIRCV",
   "language": "python",
   "name": "python3"
  },
  "language_info": {
   "codemirror_mode": {
    "name": "ipython",
    "version": 3
   },
   "file_extension": ".py",
   "mimetype": "text/x-python",
   "name": "python",
   "nbconvert_exporter": "python",
   "pygments_lexer": "ipython3",
   "version": "3.11.5"
  }
 },
 "nbformat": 4,
 "nbformat_minor": 2
}
